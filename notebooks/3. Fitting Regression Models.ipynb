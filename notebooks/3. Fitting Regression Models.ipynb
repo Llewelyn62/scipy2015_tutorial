{
 "metadata": {
  "kernelspec": {
   "display_name": "Python 3",
   "language": "python",
   "name": "python3"
  },
  "language_info": {
   "codemirror_mode": {
    "name": "ipython",
    "version": 3
   },
   "file_extension": ".py",
   "mimetype": "text/x-python",
   "name": "python",
   "nbconvert_exporter": "python",
   "pygments_lexer": "ipython3",
   "version": "3.4.2"
  },
  "name": ""
 },
 "nbformat": 3,
 "nbformat_minor": 0,
 "worksheets": [
  {
   "cells": [
    {
     "cell_type": "code",
     "collapsed": false,
     "input": [
      "%matplotlib inline\n",
      "import numpy as np\n",
      "import pandas as pd\n",
      "import matplotlib.pyplot as plt\n",
      "from scipy.optimize import fmin\n",
      "\n",
      "np.random.seed(1789)\n",
      "\n",
      "from IPython.core.display import HTML\n",
      "def css_styling():\n",
      "    styles = open(\"styles/custom.css\", \"r\").read()\n",
      "    return HTML(styles)\n",
      "css_styling()"
     ],
     "language": "python",
     "metadata": {},
     "outputs": [
      {
       "html": [
        "<style>\n",
        "    @font-face {\n",
        "        font-family: \"Computer Modern\";\n",
        "        src: url('http://mirrors.ctan.org/fonts/cm-unicode/fonts/otf/cmunss.otf');\n",
        "    }\n",
        "    div.cell{\n",
        "        width: 90%;\n",
        "/*        margin-left:auto;*/\n",
        "/*        margin-right:auto;*/\n",
        "    }\n",
        "    ul {\n",
        "        line-height: 145%;\n",
        "        font-size: 90%;\n",
        "    }\n",
        "    li {\n",
        "        margin-bottom: 1em;\n",
        "    }\n",
        "    h1 {\n",
        "        font-family: Helvetica, serif;\n",
        "    }\n",
        "    h4{\n",
        "        margin-top: 12px;\n",
        "        margin-bottom: 3px;\n",
        "       }\n",
        "    div.text_cell_render{\n",
        "        font-family: Computer Modern, \"Helvetica Neue\", Arial, Helvetica, Geneva, sans-serif;\n",
        "        line-height: 145%;\n",
        "        font-size: 130%;\n",
        "        width: 90%;\n",
        "        margin-left:auto;\n",
        "        margin-right:auto;\n",
        "    }\n",
        "    .CodeMirror{\n",
        "            font-family: \"Source Code Pro\", source-code-pro,Consolas, monospace;\n",
        "    }\n",
        "/*    .prompt{\n",
        "        display: None;\n",
        "    }*/\n",
        "    .text_cell_render h5 {\n",
        "        font-weight: 300;\n",
        "        font-size: 16pt;\n",
        "        color: #4057A1;\n",
        "        font-style: italic;\n",
        "        margin-bottom: 0.5em;\n",
        "        margin-top: 0.5em;\n",
        "        display: block;\n",
        "    }\n",
        "\n",
        "    .warning{\n",
        "        color: rgb( 240, 20, 20 )\n",
        "        }\n",
        "</style>\n",
        "<script>\n",
        "    MathJax.Hub.Config({\n",
        "                        TeX: {\n",
        "                           extensions: [\"AMSmath.js\"]\n",
        "                           },\n",
        "                tex2jax: {\n",
        "                    inlineMath: [ ['$','$'], [\"\\\\(\",\"\\\\)\"] ],\n",
        "                    displayMath: [ ['$$','$$'], [\"\\\\[\",\"\\\\]\"] ]\n",
        "                },\n",
        "                displayAlign: 'center', // Change this to 'center' to center equations.\n",
        "                \"HTML-CSS\": {\n",
        "                    styles: {'.MathJax_Display': {\"margin\": 4}}\n",
        "                }\n",
        "        });\n",
        "</script>"
       ],
       "metadata": {},
       "output_type": "pyout",
       "prompt_number": 1,
       "text": [
        "<IPython.core.display.HTML at 0x10ba343d0>"
       ]
      }
     ],
     "prompt_number": 1
    },
    {
     "cell_type": "markdown",
     "metadata": {},
     "source": [
      "---\n",
      "\n",
      "# Regression modeling\n",
      "\n",
      "A general, primary goal of many statistical data analysis tasks is to relate the influence of one variable on another. \n",
      "\n",
      "For example: \n",
      "\n",
      "- how different medical interventions influence the incidence or duration of disease\n",
      "- how baseball player's performance varies as a function of age.\n",
      "- [how test scores are correlated with tissue LSD concentration](http://www.lycaeum.org/research/researchpdfs/1748.pdf)"
     ]
    },
    {
     "cell_type": "code",
     "collapsed": false,
     "input": [
      "from cStringIO import StringIO\n",
      "\n",
      "data_string =u'''\n",
      "Drugs\tScore\n",
      "0\t1.17\t78.93\n",
      "1\t2.97\t58.20\n",
      "2\t3.26\t67.47\n",
      "3\t4.69\t37.47\n",
      "4\t5.83\t45.65\n",
      "5\t6.00\t32.92\n",
      "6\t6.41\t29.97\n",
      "'''\n",
      "\n",
      "lsd_and_math = pd.read_table(StringIO(data_string))\n",
      "lsd_and_math"
     ],
     "language": "python",
     "metadata": {},
     "outputs": [
      {
       "html": [
        "<div style=\"max-width:1500px;overflow:auto;\">\n",
        "<table border=\"1\" class=\"dataframe\">\n",
        "  <thead>\n",
        "    <tr style=\"text-align: right;\">\n",
        "      <th></th>\n",
        "      <th>Drugs</th>\n",
        "      <th>Score</th>\n",
        "    </tr>\n",
        "  </thead>\n",
        "  <tbody>\n",
        "    <tr>\n",
        "      <th>0</th>\n",
        "      <td>1.17</td>\n",
        "      <td>78.93</td>\n",
        "    </tr>\n",
        "    <tr>\n",
        "      <th>1</th>\n",
        "      <td>2.97</td>\n",
        "      <td>58.20</td>\n",
        "    </tr>\n",
        "    <tr>\n",
        "      <th>2</th>\n",
        "      <td>3.26</td>\n",
        "      <td>67.47</td>\n",
        "    </tr>\n",
        "    <tr>\n",
        "      <th>3</th>\n",
        "      <td>4.69</td>\n",
        "      <td>37.47</td>\n",
        "    </tr>\n",
        "    <tr>\n",
        "      <th>4</th>\n",
        "      <td>5.83</td>\n",
        "      <td>45.65</td>\n",
        "    </tr>\n",
        "    <tr>\n",
        "      <th>5</th>\n",
        "      <td>6.00</td>\n",
        "      <td>32.92</td>\n",
        "    </tr>\n",
        "    <tr>\n",
        "      <th>6</th>\n",
        "      <td>6.41</td>\n",
        "      <td>29.97</td>\n",
        "    </tr>\n",
        "  </tbody>\n",
        "</table>\n",
        "</div>"
       ],
       "metadata": {},
       "output_type": "pyout",
       "prompt_number": 12,
       "text": [
        "   Drugs  Score\n",
        "0   1.17  78.93\n",
        "1   2.97  58.20\n",
        "2   3.26  67.47\n",
        "3   4.69  37.47\n",
        "4   5.83  45.65\n",
        "5   6.00  32.92\n",
        "6   6.41  29.97"
       ]
      }
     ],
     "prompt_number": 12
    },
    {
     "cell_type": "markdown",
     "metadata": {},
     "source": [
      "![lsd](images/_lsd.jpg)\n",
      "\n",
      "> Taking LSD was a profound experience, one of the most important things in my life --Steve Jobs"
     ]
    },
    {
     "cell_type": "code",
     "collapsed": false,
     "input": [
      "lsd_and_math.plot(x='Drugs', y='Score', style='ro', legend=False, xlim=(0,8))"
     ],
     "language": "python",
     "metadata": {},
     "outputs": [
      {
       "metadata": {},
       "output_type": "pyout",
       "prompt_number": 3,
       "text": [
        "<matplotlib.axes._subplots.AxesSubplot at 0x10f93db00>"
       ]
      },
      {
       "metadata": {},
       "output_type": "display_data",
       "png": "[encoded data removed]",
       "text": [
        "<matplotlib.figure.Figure at 0x10d4affd0>"
       ]
      }
     ],
     "prompt_number": 3
    },
    {
     "cell_type": "markdown",
     "metadata": {},
     "source": [
      "We can build a model to characterize the relationship between $X$ and $Y$, recognizing that additional factors other than $X$ (the ones we have measured or are interested in) may influence the response variable $Y$.\n",
      "\n",
      "- $M(Y|X) = E(Y|X)$\n",
      "- $M(Y|X) = Pr(Y=1|X)$"
     ]
    },
    {
     "cell_type": "markdown",
     "metadata": {},
     "source": [
      "In general,\n",
      "\n",
      "$$M(Y|X) = f(X)$$\n",
      "\n",
      "for linear regression\n",
      "\n",
      "$$M(Y|X) = f(X\\beta)$$"
     ]
    },
    {
     "cell_type": "markdown",
     "metadata": {},
     "source": [
      "where $f$ is some function, for example a linear function:\n",
      "\n",
      "<div style=\"font-size: 150%;\">  \n",
      "$y_i = \\beta_0 + \\beta_1 x_{1i} + \\ldots + \\beta_k x_{ki} + \\epsilon_i$\n",
      "</div>\n",
      "\n",
      "Regression is a **weighted sum** of independent predictors"
     ]
    },
    {
     "cell_type": "markdown",
     "metadata": {},
     "source": [
      "and $\\epsilon_i$ accounts for the difference between the observed response $y_i$ and its prediction from the model $\\hat{y_i} = \\beta_0 + \\beta_1 x_i$. This is sometimes referred to as **process uncertainty**.\n",
      "\n",
      "Interpretation: coefficients represent the change in Y for a unit increment of the predictor X."
     ]
    },
    {
     "cell_type": "markdown",
     "metadata": {},
     "source": [
      "Two important regression **assumptions**:\n",
      "\n",
      "1. normal errors\n",
      "2. homoscedasticity\n"
     ]
    },
    {
     "cell_type": "markdown",
     "metadata": {},
     "source": [
      "## Parameter estimation\n",
      "\n",
      "We would like to select $\\beta_0, \\beta_1$ so that the difference between the predictions and the observations is zero, but this is not usually possible. Instead, we choose a reasonable criterion: ***the smallest sum of the squared differences between $\\hat{y}$ and $y$***.\n",
      "\n",
      "<div style=\"font-size: 120%;\">  \n",
      "$$R^2 = \\sum_i (y_i - [\\beta_0 + \\beta_1 x_i])^2 = \\sum_i \\epsilon_i^2 $$  \n",
      "</div>\n",
      "\n",
      "Squaring serves two purposes: \n",
      "\n",
      "1. to prevent positive and negative values from cancelling each other out\n",
      "2. to strongly penalize large deviations. \n",
      "\n",
      "Whether or not the latter is a desired depends on the goals of the analysis.\n",
      "\n",
      "In other words, we will select the parameters that minimize the squared error of the model."
     ]
    },
    {
     "cell_type": "code",
     "collapsed": false,
     "input": [
      "sum_of_squares = lambda theta, x, y: np.sum((y - theta[0] - theta[1]*x) ** 2)"
     ],
     "language": "python",
     "metadata": {},
     "outputs": [],
     "prompt_number": 4
    },
    {
     "cell_type": "code",
     "collapsed": false,
     "input": [
      "sum_of_squares([0,1], lsd_and_math.Drugs, lsd_and_math.Score)"
     ],
     "language": "python",
     "metadata": {},
     "outputs": [
      {
       "metadata": {},
       "output_type": "pyout",
       "prompt_number": 5,
       "text": [
        "17159.8154"
       ]
      }
     ],
     "prompt_number": 5
    },
    {
     "cell_type": "code",
     "collapsed": false,
     "input": [
      "x, y = lsd_and_math.T.values\n",
      "b0, b1 = fmin(sum_of_squares, [0,1], args=(x,y))\n",
      "b0, b1"
     ],
     "language": "python",
     "metadata": {},
     "outputs": [
      {
       "output_type": "stream",
       "stream": "stdout",
       "text": [
        "Optimization terminated successfully.\n",
        "         Current function value: 253.881329\n",
        "         Iterations: 97\n",
        "         Function evaluations: 179\n"
       ]
      },
      {
       "metadata": {},
       "output_type": "pyout",
       "prompt_number": 6,
       "text": [
        "(89.123909209804239, -9.0094696583309499)"
       ]
      }
     ],
     "prompt_number": 6
    },
    {
     "cell_type": "code",
     "collapsed": false,
     "input": [
      "ax = lsd_and_math.plot(x='Drugs', y='Score', style='ro', legend=False, xlim=(0,8))\n",
      "ax.plot([0,10], [b0, b0+b1*10])"
     ],
     "language": "python",
     "metadata": {},
     "outputs": [
      {
       "metadata": {},
       "output_type": "pyout",
       "prompt_number": 7,
       "text": [
        "[<matplotlib.lines.Line2D at 0x10fab9da0>]"
       ]
      },
      {
       "metadata": {},
       "output_type": "display_data",
       "png": "[encoded data removed]",
       "text": [
        "<matplotlib.figure.Figure at 0x10faad978>"
       ]
      }
     ],
     "prompt_number": 7
    },
    {
     "cell_type": "code",
     "collapsed": false,
     "input": [
      "ax = lsd_and_math.plot(x='Drugs', y='Score', style='ro', legend=False, xlim=(0,8), ylim=(20, 90))\n",
      "ax.plot([0,10], [b0, b0+b1*10])\n",
      "for xi, yi in zip(x,y):\n",
      "    ax.plot([xi]*2, [yi, b0+b1*xi], 'k:')"
     ],
     "language": "python",
     "metadata": {},
     "outputs": [
      {
       "metadata": {},
       "output_type": "display_data",
       "png": "[encoded data removed]",
       "text": [
        "<matplotlib.figure.Figure at 0x10fbb7080>"
       ]
      }
     ],
     "prompt_number": 8
    },
    {
     "cell_type": "markdown",
     "metadata": {},
     "source": [
      "## Alternative loss functions\n",
      "\n",
      "Minimizing the sum of squares is not the only criterion we can use; it is just a very popular (and successful) one. For example, we can try to minimize the sum of absolute differences:"
     ]
    },
    {
     "cell_type": "code",
     "collapsed": true,
     "input": [
      "sum_of_absval = lambda theta, x, y: np.sum(np.abs(y - theta[0] - theta[1]*x))"
     ],
     "language": "python",
     "metadata": {},
     "outputs": [],
     "prompt_number": 9
    },
    {
     "cell_type": "code",
     "collapsed": false,
     "input": [
      "b0, b1 = fmin(sum_of_absval, [0,0], args=(x,y))\n",
      "print('\\nintercept: {0:.2}, slope: {1:.2}'.format(b0,b1))\n",
      "ax = lsd_and_math.plot(x='Drugs', y='Score', style='ro', legend=False, xlim=(0,8))\n",
      "ax.plot([0,10], [b0, b0+b1*10])"
     ],
     "language": "python",
     "metadata": {},
     "outputs": [
      {
       "output_type": "stream",
       "stream": "stdout",
       "text": [
        "Optimization terminated successfully.\n",
        "         Current function value: 31.692066\n",
        "         Iterations: 137\n",
        "         Function evaluations: 264\n",
        "\n",
        "intercept: 9e+01, slope: -9.3\n"
       ]
      },
      {
       "metadata": {},
       "output_type": "pyout",
       "prompt_number": 10,
       "text": [
        "[<matplotlib.lines.Line2D at 0x10fc9e8d0>]"
       ]
      },
      {
       "metadata": {},
       "output_type": "display_data",
       "png": "[encoded data removed]",
       "text": [
        "<matplotlib.figure.Figure at 0x10fc9e630>"
       ]
      }
     ],
     "prompt_number": 10
    },
    {
     "cell_type": "markdown",
     "metadata": {},
     "source": [
      "We are not restricted to a straight-line regression model; we can represent a curved relationship between our variables by introducing **polynomial** terms. For example, a cubic model:\n",
      "\n",
      "<div style=\"font-size: 150%;\">  \n",
      "$y_i = \\beta_0 + \\beta_1 x_i + \\beta_2 x_i^2 + \\epsilon_i$\n",
      "</div>"
     ]
    },
    {
     "cell_type": "code",
     "collapsed": true,
     "input": [
      "sum_squares_quad = lambda theta, x, y: np.sum((y - theta[0] - theta[1]*x - theta[2]*(x**2)) ** 2)"
     ],
     "language": "python",
     "metadata": {},
     "outputs": [],
     "prompt_number": 11
    },
    {
     "cell_type": "code",
     "collapsed": false,
     "input": [
      "b0,b1,b2 = fmin(sum_squares_quad, [1,1,-1], args=(x,y))\n",
      "print('\\nintercept: {0:.2}, x: {1:.2}, x2: {2:.2}'.format(b0,b1,b2))\n",
      "ax = lsd_and_math.plot(x='Drugs', y='Score', style='ro', legend=False, xlim=(0,8))\n",
      "xvals = np.linspace(0, 8, 100)\n",
      "ax.plot(xvals, b0 + b1*xvals + b2*(xvals**2))"
     ],
     "language": "python",
     "metadata": {},
     "outputs": [
      {
       "output_type": "stream",
       "stream": "stdout",
       "text": [
        "Optimization terminated successfully.\n",
        "         Current function value: 251.093792\n",
        "         Iterations: 177\n",
        "         Function evaluations: 319\n",
        "\n",
        "intercept: 9.2e+01, x: -1.1e+01, x2: 0.24\n"
       ]
      },
      {
       "metadata": {},
       "output_type": "pyout",
       "prompt_number": 12,
       "text": [
        "[<matplotlib.lines.Line2D at 0x10fce6860>]"
       ]
      },
      {
       "metadata": {},
       "output_type": "display_data",
       "png": "[encoded data removed]",
       "text": [
        "<matplotlib.figure.Figure at 0x10fce6358>"
       ]
      }
     ],
     "prompt_number": 12
    },
    {
     "cell_type": "markdown",
     "metadata": {},
     "source": [
      "Although a polynomial model characterizes a nonlinear relationship, it is a linear problem in terms of estimation. That is, the regression model $f(y | x)$ is **linear in the parameters**.\n",
      "\n",
      "For some data, it may be reasonable to consider polynomials of order>2. For example, consider the relationship between the number of spawning salmon and the number of juveniles recruited into the population the following year; one would expect the relationship to be positive, but not necessarily linear."
     ]
    },
    {
     "cell_type": "code",
     "collapsed": true,
     "input": [
      "sum_squares_cubic = lambda theta, x, y: np.sum((y - theta[0] - theta[1]*x - theta[2]*(x**2) \n",
      "                                  - theta[3]*(x**3)) ** 2)"
     ],
     "language": "python",
     "metadata": {},
     "outputs": [],
     "prompt_number": 13
    },
    {
     "cell_type": "code",
     "collapsed": false,
     "input": [
      "salmon = pd.read_table(\"../data/salmon.dat\", delim_whitespace=True, index_col=0)\n",
      "plt.plot(salmon.spawners, salmon.recruits, 'r.')\n",
      "b0,b1,b2,b3 = fmin(sum_squares_cubic, [0,1,-1,0], args=(salmon.spawners, salmon.recruits))\n",
      "xvals = np.arange(500)\n",
      "plt.plot(xvals, b0 + b1*xvals + b2*(xvals**2) + b3*(xvals**3))"
     ],
     "language": "python",
     "metadata": {},
     "outputs": [
      {
       "output_type": "stream",
       "stream": "stdout",
       "text": [
        "Optimization terminated successfully.\n",
        "         Current function value: 12809.933906\n",
        "         Iterations: 251\n",
        "         Function evaluations: 437\n"
       ]
      },
      {
       "metadata": {},
       "output_type": "pyout",
       "prompt_number": 14,
       "text": [
        "[<matplotlib.lines.Line2D at 0x10fe55b38>]"
       ]
      },
      {
       "metadata": {},
       "output_type": "display_data",
       "png": "[encoded data removed]",
       "text": [
        "<matplotlib.figure.Figure at 0x10fe555f8>"
       ]
      }
     ],
     "prompt_number": 14
    },
    {
     "cell_type": "markdown",
     "metadata": {},
     "source": [
      "## Linear Regression with `scikit-learn`\n",
      "\n",
      "In practice, we need not fit least squares models by hand because they are implemented generally in packages such as [`scikit-learn`](http://scikit-learn.org/) and [`statsmodels`](https://github.com/statsmodels/statsmodels/). For example, `scikit-learn` package implements least squares models in its `LinearRegression` class:"
     ]
    },
    {
     "cell_type": "code",
     "collapsed": false,
     "input": [
      "from sklearn import linear_model\n",
      "\n",
      "straight_line = linear_model.LinearRegression()\n",
      "straight_line.fit(x[:, np.newaxis], y)"
     ],
     "language": "python",
     "metadata": {},
     "outputs": [
      {
       "metadata": {},
       "output_type": "pyout",
       "prompt_number": 15,
       "text": [
        "LinearRegression(copy_X=True, fit_intercept=True, n_jobs=1, normalize=False)"
       ]
      }
     ],
     "prompt_number": 15
    },
    {
     "cell_type": "code",
     "collapsed": false,
     "input": [
      "straight_line.coef_"
     ],
     "language": "python",
     "metadata": {},
     "outputs": [
      {
       "metadata": {},
       "output_type": "pyout",
       "prompt_number": 16,
       "text": [
        "array([-9.00946642])"
       ]
      }
     ],
     "prompt_number": 16
    },
    {
     "cell_type": "code",
     "collapsed": false,
     "input": [
      "straight_line.intercept_"
     ],
     "language": "python",
     "metadata": {},
     "outputs": [
      {
       "metadata": {},
       "output_type": "pyout",
       "prompt_number": 17,
       "text": [
        "89.123873767993061"
       ]
      }
     ],
     "prompt_number": 17
    },
    {
     "cell_type": "code",
     "collapsed": false,
     "input": [
      "plt.plot(x, y, 'ro')\n",
      "plt.plot(x, straight_line.predict(x[:, np.newaxis]), color='blue',\n",
      "         linewidth=3)"
     ],
     "language": "python",
     "metadata": {},
     "outputs": [
      {
       "metadata": {},
       "output_type": "pyout",
       "prompt_number": 18,
       "text": [
        "[<matplotlib.lines.Line2D at 0x1108231d0>]"
       ]
      },
      {
       "metadata": {},
       "output_type": "display_data",
       "png": "[encoded data removed]",
       "text": [
        "<matplotlib.figure.Figure at 0x110823160>"
       ]
      }
     ],
     "prompt_number": 18
    },
    {
     "cell_type": "markdown",
     "metadata": {},
     "source": [
      "For more general regression model building, its helpful to use a tool for describing statistical models, called `patsy`. With `patsy`, it is easy to specify the desired combinations of variables for any particular analysis, using an \"R-like\" syntax. `patsy` parses the formula string, and uses it to construct the approriate *design matrix* for the model.\n",
      "\n",
      "For example, the quadratic model specified by hand above can be coded as:"
     ]
    },
    {
     "cell_type": "code",
     "collapsed": false,
     "input": [
      "from patsy import dmatrix\n",
      "\n",
      "X = dmatrix('salmon.spawners + I(salmon.spawners**2)')"
     ],
     "language": "python",
     "metadata": {},
     "outputs": [],
     "prompt_number": 19
    },
    {
     "cell_type": "markdown",
     "metadata": {},
     "source": [
      "The `dmatrix` function returns the design matrix, which can be passed directly to the `LinearRegression` fitting method."
     ]
    },
    {
     "cell_type": "code",
     "collapsed": false,
     "input": [
      "poly_line = linear_model.LinearRegression(fit_intercept=False)\n",
      "poly_line.fit(X, salmon.recruits)"
     ],
     "language": "python",
     "metadata": {},
     "outputs": [
      {
       "metadata": {},
       "output_type": "pyout",
       "prompt_number": 20,
       "text": [
        "LinearRegression(copy_X=True, fit_intercept=False, n_jobs=1, normalize=False)"
       ]
      }
     ],
     "prompt_number": 20
    },
    {
     "cell_type": "code",
     "collapsed": false,
     "input": [
      "poly_line.coef_"
     ],
     "language": "python",
     "metadata": {},
     "outputs": [
      {
       "metadata": {},
       "output_type": "pyout",
       "prompt_number": 21,
       "text": [
        "array([  2.13819247e+01,   9.59677283e-01,  -8.39694795e-04])"
       ]
      }
     ],
     "prompt_number": 21
    },
    {
     "cell_type": "code",
     "collapsed": false,
     "input": [
      "plt.plot(salmon.spawners, salmon.recruits, 'ro')\n",
      "frye_range = np.arange(500)\n",
      "plt.plot(frye_range, poly_line.predict(dmatrix('frye_range + I(frye_range**2)')), color='blue')"
     ],
     "language": "python",
     "metadata": {},
     "outputs": [
      {
       "metadata": {},
       "output_type": "pyout",
       "prompt_number": 22,
       "text": [
        "[<matplotlib.lines.Line2D at 0x110aabf98>]"
       ]
      },
      {
       "metadata": {},
       "output_type": "display_data",
       "png": "[encoded data removed]",
       "text": [
        "<matplotlib.figure.Figure at 0x110a4deb8>"
       ]
      }
     ],
     "prompt_number": 22
    },
    {
     "cell_type": "markdown",
     "metadata": {},
     "source": [
      "## Generalized linear models\n",
      "\n",
      "Often our data violates one or more of the linear regression assumptions:\n",
      "\n",
      "- non-linear\n",
      "- non-normal error distribution\n",
      "- heteroskedasticity\n",
      "\n",
      "this forces us to **generalize** the regression model in order to account for these characteristics.\n",
      "\n",
      "As a motivating example, consider the Olympic medals data that we compiled earlier in the tutorial.\n",
      "\n",
      "![relay](images/mascot.png)"
     ]
    },
    {
     "cell_type": "code",
     "collapsed": false,
     "input": [
      "medals = pd.read_csv('../data/medals.csv')\n",
      "medals.head()"
     ],
     "language": "python",
     "metadata": {},
     "outputs": [
      {
       "html": [
        "<div style=\"max-height:1000px;max-width:1500px;overflow:auto;\">\n",
        "<table border=\"1\" class=\"dataframe\">\n",
        "  <thead>\n",
        "    <tr style=\"text-align: right;\">\n",
        "      <th></th>\n",
        "      <th>medals</th>\n",
        "      <th>population</th>\n",
        "      <th>oecd</th>\n",
        "      <th>log_population</th>\n",
        "    </tr>\n",
        "  </thead>\n",
        "  <tbody>\n",
        "    <tr>\n",
        "      <th>0</th>\n",
        "      <td>1</td>\n",
        "      <td>96165</td>\n",
        "      <td>0</td>\n",
        "      <td>11.473821</td>\n",
        "    </tr>\n",
        "    <tr>\n",
        "      <th>1</th>\n",
        "      <td>1</td>\n",
        "      <td>281584</td>\n",
        "      <td>0</td>\n",
        "      <td>12.548186</td>\n",
        "    </tr>\n",
        "    <tr>\n",
        "      <th>2</th>\n",
        "      <td>6</td>\n",
        "      <td>2589043</td>\n",
        "      <td>0</td>\n",
        "      <td>14.766799</td>\n",
        "    </tr>\n",
        "    <tr>\n",
        "      <th>3</th>\n",
        "      <td>25</td>\n",
        "      <td>10952046</td>\n",
        "      <td>0</td>\n",
        "      <td>16.209037</td>\n",
        "    </tr>\n",
        "    <tr>\n",
        "      <th>4</th>\n",
        "      <td>41</td>\n",
        "      <td>18348078</td>\n",
        "      <td>1</td>\n",
        "      <td>16.725035</td>\n",
        "    </tr>\n",
        "  </tbody>\n",
        "</table>\n",
        "</div>"
       ],
       "metadata": {},
       "output_type": "pyout",
       "prompt_number": 23,
       "text": [
        "   medals  population  oecd  log_population\n",
        "0       1       96165     0       11.473821\n",
        "1       1      281584     0       12.548186\n",
        "2       6     2589043     0       14.766799\n",
        "3      25    10952046     0       16.209037\n",
        "4      41    18348078     1       16.725035"
       ]
      }
     ],
     "prompt_number": 23
    },
    {
     "cell_type": "markdown",
     "metadata": {},
     "source": [
      "We expect a positive relationship between population and awarded medals, but the data in their raw form are clearly not amenable to linear regression."
     ]
    },
    {
     "cell_type": "code",
     "collapsed": false,
     "input": [
      "medals.plot(x='population', y='medals', kind='scatter')"
     ],
     "language": "python",
     "metadata": {},
     "outputs": [
      {
       "metadata": {},
       "output_type": "pyout",
       "prompt_number": 24,
       "text": [
        "<matplotlib.axes._subplots.AxesSubplot at 0x110abf7f0>"
       ]
      },
      {
       "metadata": {},
       "output_type": "display_data",
       "png": "[encoded data removed]",
       "text": [
        "<matplotlib.figure.Figure at 0x110ac3390>"
       ]
      }
     ],
     "prompt_number": 24
    },
    {
     "cell_type": "markdown",
     "metadata": {},
     "source": [
      "Part of the issue is the scale of the variables. For example, countries' populations span several orders of magnitude. We can correct this by using the logarithm of population, which we have already calculated."
     ]
    },
    {
     "cell_type": "code",
     "collapsed": false,
     "input": [
      "medals.plot(x='log_population', y='medals', kind='scatter')"
     ],
     "language": "python",
     "metadata": {},
     "outputs": [
      {
       "metadata": {},
       "output_type": "pyout",
       "prompt_number": 25,
       "text": [
        "<matplotlib.axes._subplots.AxesSubplot at 0x10fc9a048>"
       ]
      },
      {
       "metadata": {},
       "output_type": "display_data",
       "png": "[encoded data removed]",
       "text": [
        "<matplotlib.figure.Figure at 0x10fbf7f60>"
       ]
      }
     ],
     "prompt_number": 25
    },
    {
     "cell_type": "markdown",
     "metadata": {},
     "source": [
      "This is an improvement, but the relationship is still not adequately modeled by least-squares regression."
     ]
    },
    {
     "cell_type": "code",
     "collapsed": false,
     "input": [
      "linear_medals = linear_model.LinearRegression()\n",
      "X = medals.log_population[:, np.newaxis]\n",
      "linear_medals.fit(X, medals.medals)"
     ],
     "language": "python",
     "metadata": {},
     "outputs": [
      {
       "metadata": {},
       "output_type": "pyout",
       "prompt_number": 26,
       "text": [
        "LinearRegression(copy_X=True, fit_intercept=True, n_jobs=1, normalize=False)"
       ]
      }
     ],
     "prompt_number": 26
    },
    {
     "cell_type": "code",
     "collapsed": false,
     "input": [
      "ax = medals.plot(x='log_population', y='medals', kind='scatter')\n",
      "ax.plot(medals.log_population, linear_medals.predict(X), color='red',\n",
      "         linewidth=2)"
     ],
     "language": "python",
     "metadata": {},
     "outputs": [
      {
       "metadata": {},
       "output_type": "pyout",
       "prompt_number": 27,
       "text": [
        "[<matplotlib.lines.Line2D at 0x110b0e208>]"
       ]
      },
      {
       "metadata": {},
       "output_type": "display_data",
       "png": "[encoded data removed]",
       "text": [
        "<matplotlib.figure.Figure at 0x10fc09be0>"
       ]
      }
     ],
     "prompt_number": 27
    },
    {
     "cell_type": "markdown",
     "metadata": {},
     "source": [
      "This is due to the fact that the response data are **counts**. As a result, they tend to have characteristic properties. \n",
      "\n",
      "- discrete\n",
      "- positive\n",
      "- variance grows with mean\n",
      "\n",
      "to account for this, we can do two things: (1) model the medal count on the **log scale** and (2) assume **Poisson errors**, rather than normal.\n",
      "\n",
      "Recall the Poisson distribution from the previous section:\n",
      "\n",
      "$$p(y)=\\frac{e^{-\\lambda}\\lambda^y}{y!}$$\n",
      "\n",
      "* $Y=\\{0,1,2,\\ldots\\}$\n",
      "* $\\lambda > 0$\n",
      "\n",
      "$$E(Y) = \\text{Var}(Y) = \\lambda$$"
     ]
    },
    {
     "cell_type": "markdown",
     "metadata": {},
     "source": [
      "So, we will model the logarithm of the expected value as a linear function of our predictors:\n",
      "\n",
      "$$\\log(\\lambda) = X\\beta$$\n",
      "\n",
      "In this context, the log function is called a **link function**. This transformation implies the mean of the Poisson is:\n",
      "\n",
      "$$\\lambda = \\exp(X\\beta)$$\n",
      "\n",
      "We can plug this into the Poisson likelihood and use maximum likelihood to estimate the regression covariates $\\beta$.\n",
      "\n",
      "$$\\log L = \\sum_{i=1}^n -\\exp(X_i\\beta) + Y_i (X_i \\beta)- \\log(Y_i!)$$\n",
      "\n",
      "As we have already done, we just need to code the kernel of this likelihood, and optimize!"
     ]
    },
    {
     "cell_type": "code",
     "collapsed": true,
     "input": [
      "# Poisson negative log-likelhood\n",
      "poisson_loglike = lambda beta, X, y: -(-np.exp(X.dot(beta)) + y*X.dot(beta)).sum()"
     ],
     "language": "python",
     "metadata": {},
     "outputs": [],
     "prompt_number": 28
    },
    {
     "cell_type": "markdown",
     "metadata": {},
     "source": [
      "Let's use the `assign` method to add a column of ones to the design matrix."
     ]
    },
    {
     "cell_type": "code",
     "collapsed": false,
     "input": [
      "poisson_loglike([0,1], medals[['log_population']].assign(intercept=1), medals.medals)"
     ],
     "language": "python",
     "metadata": {},
     "outputs": [
      {
       "metadata": {},
       "output_type": "pyout",
       "prompt_number": 29,
       "text": [
        "-627.255735551737"
       ]
      }
     ],
     "prompt_number": 29
    },
    {
     "cell_type": "markdown",
     "metadata": {},
     "source": [
      "We will use Nelder-Mead to minimize the negtive log-likelhood."
     ]
    },
    {
     "cell_type": "code",
     "collapsed": false,
     "input": [
      "b1, b0 = fmin(poisson_loglike, [0,1], args=(medals[['log_population']].assign(intercept=1).values, \n",
      "                                            medals.medals.values))"
     ],
     "language": "python",
     "metadata": {},
     "outputs": [
      {
       "output_type": "stream",
       "stream": "stdout",
       "text": [
        "Optimization terminated successfully.\n",
        "         Current function value: -1381.299433\n",
        "         Iterations: 68\n",
        "         Function evaluations: 131\n"
       ]
      }
     ],
     "prompt_number": 30
    },
    {
     "cell_type": "code",
     "collapsed": false,
     "input": [
      "b0, b1"
     ],
     "language": "python",
     "metadata": {},
     "outputs": [
      {
       "metadata": {},
       "output_type": "pyout",
       "prompt_number": 31,
       "text": [
        "(-5.2973029170604393, 0.44873025169011005)"
       ]
      }
     ],
     "prompt_number": 31
    },
    {
     "cell_type": "markdown",
     "metadata": {},
     "source": [
      "The resulting fit looks reasonable."
     ]
    },
    {
     "cell_type": "code",
     "collapsed": false,
     "input": [
      "ax = medals.plot(x='log_population', y='medals', kind='scatter')\n",
      "xvals = np.arange(12, 22)\n",
      "ax.plot(xvals, np.exp(b0 + b1*xvals), 'r--')"
     ],
     "language": "python",
     "metadata": {},
     "outputs": [
      {
       "metadata": {},
       "output_type": "pyout",
       "prompt_number": 32,
       "text": [
        "[<matplotlib.lines.Line2D at 0x110ba9fd0>]"
       ]
      },
      {
       "metadata": {},
       "output_type": "display_data",
       "png": "[encoded data removed]",
       "text": [
        "<matplotlib.figure.Figure at 0x10fd246d8>"
       ]
      }
     ],
     "prompt_number": 32
    },
    {
     "cell_type": "markdown",
     "metadata": {},
     "source": [
      "### Exercise: Multivariate GLM\n",
      "\n",
      "Add the OECD indicator variable to the model, and estimate the model coefficients."
     ]
    },
    {
     "cell_type": "code",
     "collapsed": true,
     "input": [
      "# Write your answer here"
     ],
     "language": "python",
     "metadata": {},
     "outputs": [],
     "prompt_number": 33
    },
    {
     "cell_type": "markdown",
     "metadata": {},
     "source": [
      "### Interactions among variables\n",
      "\n",
      "Interactions imply that the effect of one covariate $X_1$ on $Y$ depends on the value of another covariate $X_2$.\n",
      "\n",
      "$$M(Y|X) = \\beta_0 + \\beta_1 X_1 + \\beta_2 X_2 +\\beta_3 X_1 X_2$$\n",
      "\n",
      "the effect of a unit increase in $X_1$:\n",
      "\n",
      "$$M(Y|X_1+1, X_2) - M(Y|X_1, X_2)$$\n",
      "\n",
      "$$\\begin{align}\n",
      "&= \\beta_0 + \\beta_1 (X_1 + 1) + \\beta_2 X_2 +\\beta_3 (X_1 + 1) X_2\n",
      "- [\\beta_0 + \\beta_1 X_1 + \\beta_2 X_2 +\\beta_3 X_1 X_2] \\\\\n",
      "&= \\beta_1 + \\beta_3 X_2\n",
      "\\end{align}$$"
     ]
    },
    {
     "cell_type": "code",
     "collapsed": false,
     "input": [
      "ax = medals[medals.oecd==1].plot(x='log_population', y='medals', kind='scatter', alpha=0.8)\n",
      "medals[medals.oecd==0].plot(x='log_population', y='medals', kind='scatter', color='red', alpha=0.5, ax=ax)"
     ],
     "language": "python",
     "metadata": {},
     "outputs": [
      {
       "metadata": {},
       "output_type": "pyout",
       "prompt_number": 34,
       "text": [
        "<matplotlib.axes._subplots.AxesSubplot at 0x110c9e160>"
       ]
      },
      {
       "metadata": {},
       "output_type": "display_data",
       "png": "[encoded data removed]",
       "text": [
        "<matplotlib.figure.Figure at 0x110ca6550>"
       ]
      }
     ],
     "prompt_number": 34
    },
    {
     "cell_type": "markdown",
     "metadata": {},
     "source": [
      "Interaction can be interpreted as:\n",
      "\n",
      "- $X_1$ interacts with $X_2$\n",
      "- $X_1$ modifies the effect of $X_2$\n",
      "- $X_2$ modifies the effect of $X_1$\n",
      "- $X_1$ and $X_2$ are non-additive or synergistic"
     ]
    },
    {
     "cell_type": "markdown",
     "metadata": {},
     "source": [
      "Let's construct a model that predicts medal count based on population size and OECD status, as well as the interaction. We can use patsy to set up the design matrix."
     ]
    },
    {
     "cell_type": "code",
     "collapsed": false,
     "input": [
      "y = medals.medals\n",
      "X = dmatrix('log_population * oecd', data=medals)\n",
      "X"
     ],
     "language": "python",
     "metadata": {
      "scrolled": true
     },
     "outputs": [
      {
       "metadata": {},
       "output_type": "pyout",
       "prompt_number": 35,
       "text": [
        "DesignMatrix with shape (79, 4)\n",
        "  Intercept  log_population  oecd  log_population:oecd\n",
        "          1        11.47382     0              0.00000\n",
        "          1        12.54819     0              0.00000\n",
        "          1        14.76680     0              0.00000\n",
        "          1        16.20904     0              0.00000\n",
        "          1        16.72504     1             16.72504\n",
        "          1        16.14509     1             16.14509\n",
        "          1        15.91733     0              0.00000\n",
        "          1        13.99525     0              0.00000\n",
        "          1        15.10232     1             15.10232\n",
        "          1        15.29285     1             15.29285\n",
        "          1        16.15816     0              0.00000\n",
        "          1        16.55847     1             16.55847\n",
        "          1        14.31108     0              0.00000\n",
        "          1        15.47603     1             15.47603\n",
        "          1        15.10551     1             15.10551\n",
        "          1        16.14891     1             16.14891\n",
        "          1        14.46491     0              0.00000\n",
        "          1        15.78927     1             15.78927\n",
        "          1        15.99697     1             15.99697\n",
        "          1        16.93468     0              0.00000\n",
        "          1        18.22083     1             18.22083\n",
        "          1        15.44896     1             15.44896\n",
        "          1        16.16795     1             16.16795\n",
        "          1        17.21615     1             17.21615\n",
        "          1        16.01637     0              0.00000\n",
        "          1        16.64175     0              0.00000\n",
        "          1        17.88266     1             17.88266\n",
        "          1        17.86445     1             17.86445\n",
        "          1        17.63646     0              0.00000\n",
        "          1        16.13364     1             16.13364\n",
        "  [49 rows omitted]\n",
        "  Terms:\n",
        "    'Intercept' (column 0)\n",
        "    'log_population' (column 1)\n",
        "    'oecd' (column 2)\n",
        "    'log_population:oecd' (column 3)\n",
        "  (to view full data, use np.asarray(this_obj))"
       ]
      }
     ],
     "prompt_number": 35
    },
    {
     "cell_type": "markdown",
     "metadata": {},
     "source": [
      "Now, fit the model."
     ]
    },
    {
     "cell_type": "code",
     "collapsed": false,
     "input": [
      "interaction_params = fmin(poisson_loglike, [0,1,1,0], args=(X, y))"
     ],
     "language": "python",
     "metadata": {},
     "outputs": [
      {
       "output_type": "stream",
       "stream": "stdout",
       "text": [
        "Warning: Maximum number of function evaluations has been exceeded.\n"
       ]
      }
     ],
     "prompt_number": 36
    },
    {
     "cell_type": "code",
     "collapsed": false,
     "input": [
      "interaction_params"
     ],
     "language": "python",
     "metadata": {},
     "outputs": [
      {
       "metadata": {},
       "output_type": "pyout",
       "prompt_number": 37,
       "text": [
        "array([-5.2958393 ,  0.42441607, -2.16727213,  0.17978487])"
       ]
      }
     ],
     "prompt_number": 37
    },
    {
     "cell_type": "markdown",
     "metadata": {},
     "source": [
      "Notice anything odd about these estimates?\n",
      "\n",
      "The main effect of the OECD effect is negative, which seems counter-intuitive. This is because the variable is interpreted as the OECD effect when the **log-population is zero**. This is not particularly meaningful.\n",
      "\n",
      "We can improve the interpretability of this parameter by **centering** the log-population variable prior to entering it into the model. This will result in the OECD main effect being interpreted as the marginal effect of being an OECD country for an **average-sized** country. "
     ]
    },
    {
     "cell_type": "code",
     "collapsed": false,
     "input": [
      "y = medals.medals\n",
      "X = dmatrix('center(log_population) * oecd', data=medals)\n",
      "X"
     ],
     "language": "python",
     "metadata": {},
     "outputs": [
      {
       "metadata": {},
       "output_type": "pyout",
       "prompt_number": 38,
       "text": [
        "DesignMatrix with shape (79, 4)\n",
        "  Intercept  center(log_population)  oecd  center(log_population):oecd\n",
        "          1                -5.03303     0                     -0.00000\n",
        "          1                -3.95866     0                     -0.00000\n",
        "          1                -1.74005     0                     -0.00000\n",
        "          1                -0.29781     0                     -0.00000\n",
        "          1                 0.21819     1                      0.21819\n",
        "          1                -0.36176     1                     -0.36176\n",
        "          1                -0.58952     0                     -0.00000\n",
        "          1                -2.51159     0                     -0.00000\n",
        "          1                -1.40453     1                     -1.40453\n",
        "          1                -1.21400     1                     -1.21400\n",
        "          1                -0.34869     0                     -0.00000\n",
        "          1                 0.05163     1                      0.05163\n",
        "          1                -2.19577     0                     -0.00000\n",
        "          1                -1.03081     1                     -1.03081\n",
        "          1                -1.40133     1                     -1.40133\n",
        "          1                -0.35793     1                     -0.35793\n",
        "          1                -2.04194     0                     -0.00000\n",
        "          1                -0.71758     1                     -0.71758\n",
        "          1                -0.50988     1                     -0.50988\n",
        "          1                 0.42783     0                      0.00000\n",
        "          1                 1.71398     1                      1.71398\n",
        "          1                -1.05789     1                     -1.05789\n",
        "          1                -0.33889     1                     -0.33889\n",
        "          1                 0.70930     1                      0.70930\n",
        "          1                -0.49047     0                     -0.00000\n",
        "          1                 0.13490     0                      0.00000\n",
        "          1                 1.37582     1                      1.37582\n",
        "          1                 1.35760     1                      1.35760\n",
        "          1                 1.12961     0                      0.00000\n",
        "          1                -0.37321     1                     -0.37321\n",
        "  [49 rows omitted]\n",
        "  Terms:\n",
        "    'Intercept' (column 0)\n",
        "    'center(log_population)' (column 1)\n",
        "    'oecd' (column 2)\n",
        "    'center(log_population):oecd' (column 3)\n",
        "  (to view full data, use np.asarray(this_obj))"
       ]
      }
     ],
     "prompt_number": 38
    },
    {
     "cell_type": "code",
     "collapsed": false,
     "input": [
      "fmin(poisson_loglike, [0,1,1,0], args=(X, y))"
     ],
     "language": "python",
     "metadata": {},
     "outputs": [
      {
       "output_type": "stream",
       "stream": "stdout",
       "text": [
        "Optimization terminated successfully.\n",
        "         Current function value: -1492.092233\n",
        "         Iterations: 303\n",
        "         Function evaluations: 513\n"
       ]
      },
      {
       "metadata": {},
       "output_type": "pyout",
       "prompt_number": 39,
       "text": [
        "array([ 1.71003145,  0.42443035,  0.80033982,  0.17976563])"
       ]
      }
     ],
     "prompt_number": 39
    },
    {
     "cell_type": "markdown",
     "metadata": {},
     "source": [
      "## Model Selection\n",
      "\n",
      "How do we choose among competing models for a given dataset? More parameters are not necessarily better, from the standpoint of model fit. For example, fitting a 6th order polynomial to the LSD example certainly results in an overfit."
     ]
    },
    {
     "cell_type": "code",
     "collapsed": false,
     "input": [
      "def calc_poly(params, data):\n",
      "        x = np.c_[[data**i for i in range(len(params))]]\n",
      "        return np.dot(params, x)\n",
      "\n",
      "x, y = lsd_and_math.T.values\n",
      "    \n",
      "sum_squares_poly = lambda theta, x, y: np.sum((y - calc_poly(theta, x)) ** 2)\n",
      "betas = fmin(sum_squares_poly, np.zeros(7), args=(x,y), maxiter=1e6)\n",
      "plt.plot(x, y, 'ro')\n",
      "xvals = np.linspace(0, max(x), 100)\n",
      "plt.plot(xvals, calc_poly(betas, xvals))"
     ],
     "language": "python",
     "metadata": {},
     "outputs": [
      {
       "output_type": "stream",
       "stream": "stdout",
       "text": [
        "Optimization terminated successfully.\n",
        "         Current function value: 304.786763\n",
        "         Iterations: 830\n",
        "         Function evaluations: 1284\n"
       ]
      },
      {
       "metadata": {},
       "output_type": "pyout",
       "prompt_number": 40,
       "text": [
        "[<matplotlib.lines.Line2D at 0x110d669e8>]"
       ]
      },
      {
       "metadata": {},
       "output_type": "display_data",
       "png": "[encoded data removed]",
       "text": [
        "<matplotlib.figure.Figure at 0x110d66128>"
       ]
      }
     ],
     "prompt_number": 40
    },
    {
     "cell_type": "markdown",
     "metadata": {},
     "source": [
      "One approach is to use an information-theoretic criterion to select the most appropriate model. For example **Akaike's Information Criterion (AIC)** balances the fit of the model (in terms of the likelihood) with the number of parameters required to achieve that fit. We can easily calculate AIC as:\n",
      "\n",
      "$$AIC = n \\log(\\hat{\\sigma}^2) + 2p$$\n",
      "\n",
      "where $p$ is the number of parameters in the model and $\\hat{\\sigma}^2 = RSS/(n-p-1)$.\n",
      "\n",
      "Notice that as the number of parameters increase, the residual sum of squares goes down, but the second term (a penalty) increases.\n",
      "\n",
      "AIC is a metric of **information distance** between a given model and a notional \"true\" model. Since we don't know the true model, the AIC value itself is not meaningful in an absolute sense, but is useful as a relative measure of model quality.\n",
      "\n",
      "To apply AIC to model selection, we choose the model that has the **lowest** AIC value."
     ]
    },
    {
     "cell_type": "code",
     "collapsed": false,
     "input": [
      "n = len(x)\n",
      "\n",
      "aic = lambda rss, p, n: n * np.log(rss/(n-p-1)) + 2*p\n",
      "\n",
      "RSS1 = sum_of_squares(fmin(sum_of_squares, [0,1], args=(x,y)), x, y)\n",
      "RSS2 = sum_squares_quad(fmin(sum_squares_quad, [1,1,-1], args=(x,y)), x, y)\n",
      "\n",
      "print('\\nModel 1: {0}\\nModel 2: {1}'.format(aic(RSS1, 2, n), aic(RSS2, 3, n)))"
     ],
     "language": "python",
     "metadata": {},
     "outputs": [
      {
       "output_type": "stream",
       "stream": "stdout",
       "text": [
        "Optimization terminated successfully.\n",
        "         Current function value: 253.881329\n",
        "         Iterations: 97\n",
        "         Function evaluations: 179\n",
        "Optimization terminated successfully.\n",
        "         Current function value: 251.093792\n",
        "         Iterations: 177\n",
        "         Function evaluations: 319\n",
        "\n",
        "Model 1: 33.05400811127588\n",
        "Model 2: 36.99049978705\n"
       ]
      }
     ],
     "prompt_number": 41
    },
    {
     "cell_type": "markdown",
     "metadata": {},
     "source": [
      "Hence, on the basis of \"information distance\", we would select the 2-parameter (linear) model."
     ]
    },
    {
     "cell_type": "markdown",
     "metadata": {},
     "source": [
      "### Exercise: Olympic medals model selection\n",
      "\n",
      "Use AIC to select the best model from the following set of Olympic medal prediction models:\n",
      "\n",
      "- population only\n",
      "- population and OECD\n",
      "- interaction model\n",
      "\n",
      "For these models, use the alternative form of AIC, which uses the log-likelhood rather than the residual sums-of-squares:\n",
      "\n",
      "$$AIC = -2 \\log(L) + 2p$$"
     ]
    },
    {
     "cell_type": "code",
     "collapsed": true,
     "input": [
      "# Write your answer here"
     ],
     "language": "python",
     "metadata": {},
     "outputs": [],
     "prompt_number": 42
    },
    {
     "cell_type": "markdown",
     "metadata": {},
     "source": [
      "## Logistic Regression\n",
      "\n",
      "Fitting a line to the relationship between two variables using the least squares approach is sensible when the variable we are trying to predict is continuous, but what about when the data are dichotomous?\n",
      "\n",
      "- male/female\n",
      "- pass/fail\n",
      "- died/survived\n",
      "\n",
      "Let's consider the problem of predicting survival in the Titanic disaster, based on our available information. For example, lets say that we want to predict survival as a function of the fare paid for the journey.\n",
      "\n",
      "![titanic](images/titanic_cube.png)"
     ]
    },
    {
     "cell_type": "code",
     "collapsed": false,
     "input": [
      "titanic = pd.read_excel(\"../data/titanic.xls\", \"titanic\")\n",
      "titanic.name"
     ],
     "language": "python",
     "metadata": {},
     "outputs": [
      {
       "metadata": {},
       "output_type": "pyout",
       "prompt_number": 43,
       "text": [
        "0                           Allen, Miss. Elisabeth Walton\n",
        "1                          Allison, Master. Hudson Trevor\n",
        "2                            Allison, Miss. Helen Loraine\n",
        "3                    Allison, Mr. Hudson Joshua Creighton\n",
        "4         Allison, Mrs. Hudson J C (Bessie Waldo Daniels)\n",
        "5                                     Anderson, Mr. Harry\n",
        "6                       Andrews, Miss. Kornelia Theodosia\n",
        "7                                  Andrews, Mr. Thomas Jr\n",
        "8           Appleton, Mrs. Edward Dale (Charlotte Lamson)\n",
        "9                                 Artagaveytia, Mr. Ramon\n",
        "10                                 Astor, Col. John Jacob\n",
        "11      Astor, Mrs. John Jacob (Madeleine Talmadge Force)\n",
        "12                          Aubart, Mme. Leontine Pauline\n",
        "13                           Barber, Miss. Ellen \"Nellie\"\n",
        "14                   Barkworth, Mr. Algernon Henry Wilson\n",
        "15                                    Baumann, Mr. John D\n",
        "16                               Baxter, Mr. Quigg Edmond\n",
        "17        Baxter, Mrs. James (Helene DeLaudeniere Chaput)\n",
        "18                                  Bazzani, Miss. Albina\n",
        "19                                   Beattie, Mr. Thomson\n",
        "20                          Beckwith, Mr. Richard Leonard\n",
        "21       Beckwith, Mrs. Richard Leonard (Sallie Monypeny)\n",
        "22                                  Behr, Mr. Karl Howell\n",
        "23                                  Bidois, Miss. Rosalie\n",
        "24                                      Bird, Miss. Ellen\n",
        "25                                    Birnbaum, Mr. Jakob\n",
        "26                                Bishop, Mr. Dickinson H\n",
        "27                Bishop, Mrs. Dickinson H (Helen Walton)\n",
        "28                                 Bissette, Miss. Amelia\n",
        "29              Bjornstrom-Steffansson, Mr. Mauritz Hakan\n",
        "                              ...                        \n",
        "1279                 Vestrom, Miss. Hulda Amanda Adolfina\n",
        "1280                                      Vovk, Mr. Janko\n",
        "1281                                 Waelens, Mr. Achille\n",
        "1282                                  Ware, Mr. Frederick\n",
        "1283                          Warren, Mr. Charles William\n",
        "1284                                    Webber, Mr. James\n",
        "1285                                  Wenzel, Mr. Linhart\n",
        "1286      Whabee, Mrs. George Joseph (Shawneene Abi-Saab)\n",
        "1287                     Widegren, Mr. Carl/Charles Peter\n",
        "1288                            Wiklund, Mr. Jakob Alfred\n",
        "1289                              Wiklund, Mr. Karl Johan\n",
        "1290                     Wilkes, Mrs. James (Ellen Needs)\n",
        "1291                     Willer, Mr. Aaron (\"Abi Weller\")\n",
        "1292                                   Willey, Mr. Edward\n",
        "1293                    Williams, Mr. Howard Hugh \"Harry\"\n",
        "1294                                 Williams, Mr. Leslie\n",
        "1295                                  Windelov, Mr. Einar\n",
        "1296                                     Wirz, Mr. Albert\n",
        "1297                               Wiseman, Mr. Phillippe\n",
        "1298                            Wittevrongel, Mr. Camille\n",
        "1299                                  Yasbeck, Mr. Antoni\n",
        "1300              Yasbeck, Mrs. Antoni (Selini Alexander)\n",
        "1301                                 Youseff, Mr. Gerious\n",
        "1302                                    Yousif, Mr. Wazli\n",
        "1303                                Yousseff, Mr. Gerious\n",
        "1304                                 Zabour, Miss. Hileni\n",
        "1305                                Zabour, Miss. Thamine\n",
        "1306                            Zakarian, Mr. Mapriededer\n",
        "1307                                  Zakarian, Mr. Ortin\n",
        "1308                                   Zimmerman, Mr. Leo\n",
        "Name: name, dtype: object"
       ]
      }
     ],
     "prompt_number": 43
    },
    {
     "cell_type": "code",
     "collapsed": false,
     "input": [
      "jitter = np.random.normal(scale=0.02, size=len(titanic))\n",
      "\n",
      "plt.scatter(np.log(titanic.fare), titanic.survived + jitter, alpha=0.3)\n",
      "plt.yticks([0,1])\n",
      "plt.ylabel(\"survived\")\n",
      "plt.xlabel(\"log(fare)\")"
     ],
     "language": "python",
     "metadata": {},
     "outputs": [
      {
       "metadata": {},
       "output_type": "pyout",
       "prompt_number": 44,
       "text": [
        "<matplotlib.text.Text at 0x1110c3eb8>"
       ]
      },
      {
       "metadata": {},
       "output_type": "display_data",
       "png": "[encoded data removed]",
       "text": [
        "<matplotlib.figure.Figure at 0x1110c24e0>"
       ]
      }
     ],
     "prompt_number": 44
    },
    {
     "cell_type": "markdown",
     "metadata": {},
     "source": [
      "I have added random jitter on the y-axis to help visualize the density of the points, and have plotted fare on the log scale.\n",
      "\n",
      "Clearly, fitting a line through this data makes little sense, for several reasons. First, for most values of the predictor variable, the line would predict values that are not zero or one. Second, it would seem odd to choose least squares (or similar) as a criterion for selecting the best line."
     ]
    },
    {
     "cell_type": "code",
     "collapsed": false,
     "input": [
      "x = np.log(titanic.fare[titanic.fare>0])\n",
      "y = titanic.survived[titanic.fare>0]\n",
      "betas_titanic = fmin(sum_of_squares, [1,1], args=(x,y))"
     ],
     "language": "python",
     "metadata": {},
     "outputs": [
      {
       "output_type": "stream",
       "stream": "stdout",
       "text": [
        "Optimization terminated successfully.\n",
        "         Current function value: 277.621917\n",
        "         Iterations: 55\n",
        "         Function evaluations: 103\n"
       ]
      }
     ],
     "prompt_number": 45
    },
    {
     "cell_type": "code",
     "collapsed": false,
     "input": [
      "jitter = np.random.normal(scale=0.02, size=len(titanic))\n",
      "plt.scatter(np.log(titanic.fare), titanic.survived + jitter, alpha=0.3)\n",
      "plt.yticks([0,1])\n",
      "plt.ylabel(\"survived\")\n",
      "plt.xlabel(\"log(fare)\")\n",
      "plt.plot([0,7], [betas_titanic[0], betas_titanic[0] + betas_titanic[1]*7.])"
     ],
     "language": "python",
     "metadata": {},
     "outputs": [
      {
       "metadata": {},
       "output_type": "pyout",
       "prompt_number": 46,
       "text": [
        "[<matplotlib.lines.Line2D at 0x111014470>]"
       ]
      },
      {
       "metadata": {},
       "output_type": "display_data",
       "png": "[encoded data removed]",
       "text": [
        "<matplotlib.figure.Figure at 0x111014438>"
       ]
      }
     ],
     "prompt_number": 46
    },
    {
     "cell_type": "markdown",
     "metadata": {},
     "source": [
      "If we look at this data, we can see that for most values of `fare`, there are some individuals that survived and some that did not. However, notice that the cloud of points is denser on the \"survived\" (`y=1`) side for larger values of fare than on the \"died\" (`y=0`) side."
     ]
    },
    {
     "cell_type": "markdown",
     "metadata": {},
     "source": [
      "### Stochastic model\n",
      "\n",
      "Rather than model the binary outcome explicitly, it makes sense instead to model the *probability* of death or survival in a **stochastic** model. Probabilities are measured on a continuous [0,1] scale, which may be more amenable for prediction using a regression line. We need to consider a different probability model for this exerciese however; let's consider the **Bernoulli** distribution as a generative model for our data:\n",
      "\n",
      "<div style=\"font-size: 120%;\">  \n",
      "$$f(y|p) = p^{y} (1-p)^{1-y}$$ \n",
      "</div>  "
     ]
    },
    {
     "cell_type": "markdown",
     "metadata": {},
     "source": [
      "where $y = \\{0,1\\}$ and $p \\in [0,1]$. So, this model predicts whether $y$ is zero or one as a function of the probability $p$. Notice that when $y=1$, the $1-p$ term disappears, and when $y=0$, the $p$ term disappears.\n",
      "\n",
      "So, the model we want to fit should look something like this:\n",
      "\n",
      "<div style=\"font-size: 120%;\">  \n",
      "$$p_i = \\beta_0 + \\beta_1 x_i + \\epsilon_i$$\n",
      "</div>"
     ]
    },
    {
     "cell_type": "markdown",
     "metadata": {},
     "source": [
      "However, since $p$ is constrained to be between zero and one, it is easy to see where a linear (or polynomial) model might predict values outside of this range. As with the Poisson regression, we can modify this model slightly by using a link function to transform the probability to have an unbounded range on a new scale. Specifically, we can use a **logit transformation** as our link function:\n",
      "\n",
      "<div style=\"font-size: 120%;\">  \n",
      "$$\\text{logit}(p) = \\log\\left[\\frac{p}{1-p}\\right] = x$$\n",
      "</div>"
     ]
    },
    {
     "cell_type": "markdown",
     "metadata": {},
     "source": [
      "Here's a plot of $p/(1-p)$"
     ]
    },
    {
     "cell_type": "code",
     "collapsed": false,
     "input": [
      "logit = lambda p: np.log(p/(1.-p))\n",
      "unit_interval = np.linspace(0,1)\n",
      "plt.plot(unit_interval/(1-unit_interval), unit_interval)\n",
      "plt.xlabel(r'$p/(1-p)$')\n",
      "plt.ylabel('p');"
     ],
     "language": "python",
     "metadata": {},
     "outputs": [
      {
       "metadata": {},
       "output_type": "display_data",
       "png": "[encoded data removed]",
       "text": [
        "<matplotlib.figure.Figure at 0x110d39da0>"
       ]
      }
     ],
     "prompt_number": 47
    },
    {
     "cell_type": "markdown",
     "metadata": {},
     "source": [
      "And here's the logit function:"
     ]
    },
    {
     "cell_type": "code",
     "collapsed": false,
     "input": [
      "plt.plot(logit(unit_interval), unit_interval)\n",
      "plt.xlabel('logit(p)')\n",
      "plt.ylabel('p');"
     ],
     "language": "python",
     "metadata": {},
     "outputs": [
      {
       "metadata": {},
       "output_type": "display_data",
       "png": "[encoded data removed]",
       "text": [
        "<matplotlib.figure.Figure at 0x1110950f0>"
       ]
      }
     ],
     "prompt_number": 48
    },
    {
     "cell_type": "markdown",
     "metadata": {},
     "source": [
      "The inverse of the logit transformation is:\n",
      "\n",
      "<div style=\"font-size: 150%;\">  \n",
      "$$p = \\frac{1}{1 + \\exp(-x)}$$\n",
      "</div>"
     ]
    },
    {
     "cell_type": "code",
     "collapsed": true,
     "input": [
      "invlogit = lambda x: 1. / (1 + np.exp(-x))"
     ],
     "language": "python",
     "metadata": {},
     "outputs": [],
     "prompt_number": 49
    },
    {
     "cell_type": "markdown",
     "metadata": {},
     "source": [
      "So, now our model is:\n",
      "\n",
      "<div style=\"font-size: 120%;\">  \n",
      "$$\\text{logit}(p_i) = \\beta_0 + \\beta_1 x_i + \\epsilon_i$$\n",
      "</div>"
     ]
    },
    {
     "cell_type": "markdown",
     "metadata": {},
     "source": [
      "We can fit this model using maximum likelihood. Our likelihood, again based on the Bernoulli model is:\n",
      "\n",
      "<div style=\"font-size: 120%;\">  \n",
      "$$L(y|p) = \\prod_{i=1}^n p_i^{y_i} (1-p_i)^{1-y_i}$$\n",
      "</div>"
     ]
    },
    {
     "cell_type": "markdown",
     "metadata": {},
     "source": [
      "which, on the log scale is:\n",
      "\n",
      "<div style=\"font-size: 120%;\">  \n",
      "$$l(y|p) = \\sum_{i=1}^n y_i \\log(p_i) + (1-y_i)\\log(1-p_i)$$\n",
      "</div>"
     ]
    },
    {
     "cell_type": "markdown",
     "metadata": {},
     "source": [
      "We can easily implement this in Python, keeping in mind that `fmin` minimizes, rather than maximizes functions:"
     ]
    },
    {
     "cell_type": "code",
     "collapsed": false,
     "input": [
      "def logistic_like(theta, x, y):\n",
      "    \n",
      "    p = invlogit(theta[0] + theta[1] * x)\n",
      "    \n",
      "    # Return negative of log-likelihood\n",
      "    return -np.sum(y * np.log(p) + (1-y) * np.log(1 - p))"
     ],
     "language": "python",
     "metadata": {},
     "outputs": [],
     "prompt_number": 50
    },
    {
     "cell_type": "markdown",
     "metadata": {},
     "source": [
      "Remove null values from variables (a *bad idea*, which we will show later) ..."
     ]
    },
    {
     "cell_type": "code",
     "collapsed": false,
     "input": [
      "x, y = titanic[titanic.fare.notnull()][['fare', 'survived']].values.T"
     ],
     "language": "python",
     "metadata": {},
     "outputs": [],
     "prompt_number": 51
    },
    {
     "cell_type": "markdown",
     "metadata": {},
     "source": [
      "... and fit the model."
     ]
    },
    {
     "cell_type": "code",
     "collapsed": false,
     "input": [
      "b0, b1 = fmin(logistic_like, [0.5,0], args=(x,y))\n",
      "b0, b1"
     ],
     "language": "python",
     "metadata": {},
     "outputs": [
      {
       "output_type": "stream",
       "stream": "stdout",
       "text": [
        "Optimization terminated successfully.\n",
        "         Current function value: 827.015955\n",
        "         Iterations: 47\n",
        "         Function evaluations: 93\n"
       ]
      },
      {
       "metadata": {},
       "output_type": "pyout",
       "prompt_number": 52,
       "text": [
        "(-0.88238984528338194, 0.012452067664164127)"
       ]
      }
     ],
     "prompt_number": 52
    },
    {
     "cell_type": "code",
     "collapsed": false,
     "input": [
      "jitter = np.random.normal(scale=0.01, size=len(x))\n",
      "plt.plot(x, y+jitter, 'r.', alpha=0.3)\n",
      "plt.yticks([0,.25,.5,.75,1])\n",
      "xvals = np.linspace(0, 600)\n",
      "plt.plot(xvals, invlogit(b0+b1*xvals))"
     ],
     "language": "python",
     "metadata": {},
     "outputs": [
      {
       "metadata": {},
       "output_type": "pyout",
       "prompt_number": 53,
       "text": [
        "[<matplotlib.lines.Line2D at 0x1113b8e80>]"
       ]
      },
      {
       "metadata": {},
       "output_type": "display_data",
       "png": "[encoded data removed]",
       "text": [
        "<matplotlib.figure.Figure at 0x111218ba8>"
       ]
      }
     ],
     "prompt_number": 53
    },
    {
     "cell_type": "markdown",
     "metadata": {},
     "source": [
      "As with our least squares model, we can easily fit logistic regression models in `scikit-learn`, in this case using the `LogisticRegression`."
     ]
    },
    {
     "cell_type": "code",
     "collapsed": false,
     "input": [
      "logistic = linear_model.LogisticRegression()\n",
      "logistic.fit(x[:, np.newaxis], y)"
     ],
     "language": "python",
     "metadata": {},
     "outputs": [
      {
       "metadata": {},
       "output_type": "pyout",
       "prompt_number": 54,
       "text": [
        "LogisticRegression(C=1.0, class_weight=None, dual=False, fit_intercept=True,\n",
        "          intercept_scaling=1, max_iter=100, multi_class='ovr',\n",
        "          penalty='l2', random_state=None, solver='liblinear', tol=0.0001,\n",
        "          verbose=0)"
       ]
      }
     ],
     "prompt_number": 54
    },
    {
     "cell_type": "code",
     "collapsed": false,
     "input": [
      "logistic.coef_"
     ],
     "language": "python",
     "metadata": {},
     "outputs": [
      {
       "metadata": {},
       "output_type": "pyout",
       "prompt_number": 55,
       "text": [
        "array([[ 0.0123847]])"
       ]
      }
     ],
     "prompt_number": 55
    },
    {
     "cell_type": "markdown",
     "metadata": {},
     "source": [
      "### Exercise: multivariate logistic regression\n",
      "\n",
      "Which other variables might be relevant for predicting the probability of surviving the Titanic? Generalize the model likelihood to include 2 or 3 other covariates from the dataset."
     ]
    },
    {
     "cell_type": "code",
     "collapsed": false,
     "input": [
      "# Write your answer here"
     ],
     "language": "python",
     "metadata": {},
     "outputs": [],
     "prompt_number": 56
    }
   ],
   "metadata": {}
  }
 ]
}